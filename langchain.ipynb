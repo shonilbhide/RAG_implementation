{
 "cells": [
  {
   "cell_type": "markdown",
   "metadata": {},
   "source": [
    "LangChain is a framework built to help you build LLM-powered applications more easily by providing you with the following:\n",
    "\n",
    "- a generic interface to a variety of different foundation models (see Models),\n",
    "- a framework to help you manage your prompts (see Prompts), and\n",
    "- a central interface to long-term memory (see Memory), external data (see Indexes), other LLMs (see Chains), and other agents for tasks an LLM is not able to handle (e.g., calculations or search) (see Agents)."
   ]
  },
  {
   "cell_type": "code",
   "execution_count": 1,
   "metadata": {},
   "outputs": [
    {
     "name": "stdout",
     "output_type": "stream",
     "text": [
      "Collecting langchain\n",
      "  Obtaining dependency information for langchain from https://files.pythonhosted.org/packages/e9/65/e5cc2876078fa5f1a621c8429f0174855c7e9831060d350626dbf8d2a10c/langchain-0.3.17-py3-none-any.whl.metadata\n",
      "  Downloading langchain-0.3.17-py3-none-any.whl.metadata (7.1 kB)\n",
      "Requirement already satisfied: PyYAML>=5.3 in c:\\users\\bhide\\anaconda3\\lib\\site-packages (from langchain) (6.0)\n",
      "Requirement already satisfied: SQLAlchemy<3,>=1.4 in c:\\users\\bhide\\anaconda3\\lib\\site-packages (from langchain) (1.4.39)\n",
      "Requirement already satisfied: aiohttp<4.0.0,>=3.8.3 in c:\\users\\bhide\\anaconda3\\lib\\site-packages (from langchain) (3.8.5)\n",
      "Collecting langchain-core<0.4.0,>=0.3.33 (from langchain)\n",
      "  Obtaining dependency information for langchain-core<0.4.0,>=0.3.33 from https://files.pythonhosted.org/packages/98/78/463bc92174555cc04b3e234faa169bb8b58f36fff77892d7b8ae2b4f58e4/langchain_core-0.3.33-py3-none-any.whl.metadata\n",
      "  Downloading langchain_core-0.3.33-py3-none-any.whl.metadata (6.3 kB)\n",
      "Collecting langchain-text-splitters<0.4.0,>=0.3.3 (from langchain)\n",
      "  Obtaining dependency information for langchain-text-splitters<0.4.0,>=0.3.3 from https://files.pythonhosted.org/packages/4b/83/f8081c3bea416bd9d9f0c26af795c74f42c24f9ad3c4fbf361b7d69de134/langchain_text_splitters-0.3.5-py3-none-any.whl.metadata\n",
      "  Downloading langchain_text_splitters-0.3.5-py3-none-any.whl.metadata (2.3 kB)\n",
      "Collecting langsmith<0.4,>=0.1.17 (from langchain)\n",
      "  Obtaining dependency information for langsmith<0.4,>=0.1.17 from https://files.pythonhosted.org/packages/47/3b/02313e378f6328ada43ee43ecc81a398b4f68e207c94770d1ed6aac6cca2/langsmith-0.3.4-py3-none-any.whl.metadata\n",
      "  Downloading langsmith-0.3.4-py3-none-any.whl.metadata (14 kB)\n",
      "Requirement already satisfied: numpy<2,>=1.22.4 in c:\\users\\bhide\\anaconda3\\lib\\site-packages (from langchain) (1.24.3)\n",
      "Collecting pydantic<3.0.0,>=2.7.4 (from langchain)\n",
      "  Obtaining dependency information for pydantic<3.0.0,>=2.7.4 from https://files.pythonhosted.org/packages/f4/3c/8cc1cc84deffa6e25d2d0c688ebb80635dfdbf1dbea3e30c541c8cf4d860/pydantic-2.10.6-py3-none-any.whl.metadata\n",
      "  Downloading pydantic-2.10.6-py3-none-any.whl.metadata (30 kB)\n",
      "Requirement already satisfied: requests<3,>=2 in c:\\users\\bhide\\anaconda3\\lib\\site-packages (from langchain) (2.31.0)\n",
      "Requirement already satisfied: tenacity!=8.4.0,<10,>=8.1.0 in c:\\users\\bhide\\anaconda3\\lib\\site-packages (from langchain) (8.2.2)\n",
      "Requirement already satisfied: attrs>=17.3.0 in c:\\users\\bhide\\anaconda3\\lib\\site-packages (from aiohttp<4.0.0,>=3.8.3->langchain) (22.1.0)\n",
      "Requirement already satisfied: charset-normalizer<4.0,>=2.0 in c:\\users\\bhide\\anaconda3\\lib\\site-packages (from aiohttp<4.0.0,>=3.8.3->langchain) (2.0.4)\n",
      "Requirement already satisfied: multidict<7.0,>=4.5 in c:\\users\\bhide\\anaconda3\\lib\\site-packages (from aiohttp<4.0.0,>=3.8.3->langchain) (6.0.2)\n",
      "Requirement already satisfied: async-timeout<5.0,>=4.0.0a3 in c:\\users\\bhide\\anaconda3\\lib\\site-packages (from aiohttp<4.0.0,>=3.8.3->langchain) (4.0.2)\n",
      "Requirement already satisfied: yarl<2.0,>=1.0 in c:\\users\\bhide\\anaconda3\\lib\\site-packages (from aiohttp<4.0.0,>=3.8.3->langchain) (1.8.1)\n",
      "Requirement already satisfied: frozenlist>=1.1.1 in c:\\users\\bhide\\anaconda3\\lib\\site-packages (from aiohttp<4.0.0,>=3.8.3->langchain) (1.3.3)\n",
      "Requirement already satisfied: aiosignal>=1.1.2 in c:\\users\\bhide\\anaconda3\\lib\\site-packages (from aiohttp<4.0.0,>=3.8.3->langchain) (1.2.0)\n",
      "Collecting jsonpatch<2.0,>=1.33 (from langchain-core<0.4.0,>=0.3.33->langchain)\n",
      "  Obtaining dependency information for jsonpatch<2.0,>=1.33 from https://files.pythonhosted.org/packages/73/07/02e16ed01e04a374e644b575638ec7987ae846d25ad97bcc9945a3ee4b0e/jsonpatch-1.33-py2.py3-none-any.whl.metadata\n",
      "  Downloading jsonpatch-1.33-py2.py3-none-any.whl.metadata (3.0 kB)\n",
      "Collecting packaging<25,>=23.2 (from langchain-core<0.4.0,>=0.3.33->langchain)\n",
      "  Obtaining dependency information for packaging<25,>=23.2 from https://files.pythonhosted.org/packages/88/ef/eb23f262cca3c0c4eb7ab1933c3b1f03d021f2c48f54763065b6f0e321be/packaging-24.2-py3-none-any.whl.metadata\n",
      "  Downloading packaging-24.2-py3-none-any.whl.metadata (3.2 kB)\n",
      "Requirement already satisfied: typing-extensions>=4.7 in c:\\users\\bhide\\anaconda3\\lib\\site-packages (from langchain-core<0.4.0,>=0.3.33->langchain) (4.11.0)\n",
      "Collecting httpx<1,>=0.23.0 (from langsmith<0.4,>=0.1.17->langchain)\n",
      "  Obtaining dependency information for httpx<1,>=0.23.0 from https://files.pythonhosted.org/packages/2a/39/e50c7c3a983047577ee07d2a9e53faf5a69493943ec3f6a384bdc792deb2/httpx-0.28.1-py3-none-any.whl.metadata\n",
      "  Downloading httpx-0.28.1-py3-none-any.whl.metadata (7.1 kB)\n",
      "Collecting orjson<4.0.0,>=3.9.14 (from langsmith<0.4,>=0.1.17->langchain)\n",
      "  Obtaining dependency information for orjson<4.0.0,>=3.9.14 from https://files.pythonhosted.org/packages/00/f8/bb60a4644287a544ec81df1699d5b965776bc9848d9029d9f9b3402ac8bb/orjson-3.10.15-cp311-cp311-win_amd64.whl.metadata\n",
      "  Downloading orjson-3.10.15-cp311-cp311-win_amd64.whl.metadata (42 kB)\n",
      "     ---------------------------------------- 0.0/42.9 kB ? eta -:--:--\n",
      "     ------------------------------------ - 41.0/42.9 kB 667.8 kB/s eta 0:00:01\n",
      "     -------------------------------------- 42.9/42.9 kB 526.9 kB/s eta 0:00:00\n",
      "Requirement already satisfied: requests-toolbelt<2.0.0,>=1.0.0 in c:\\users\\bhide\\anaconda3\\lib\\site-packages (from langsmith<0.4,>=0.1.17->langchain) (1.0.0)\n",
      "Collecting zstandard<0.24.0,>=0.23.0 (from langsmith<0.4,>=0.1.17->langchain)\n",
      "  Obtaining dependency information for zstandard<0.24.0,>=0.23.0 from https://files.pythonhosted.org/packages/be/a2/4272175d47c623ff78196f3c10e9dc7045c1b9caf3735bf041e65271eca4/zstandard-0.23.0-cp311-cp311-win_amd64.whl.metadata\n",
      "  Downloading zstandard-0.23.0-cp311-cp311-win_amd64.whl.metadata (3.0 kB)\n",
      "Collecting annotated-types>=0.6.0 (from pydantic<3.0.0,>=2.7.4->langchain)\n",
      "  Obtaining dependency information for annotated-types>=0.6.0 from https://files.pythonhosted.org/packages/78/b6/6307fbef88d9b5ee7421e68d78a9f162e0da4900bc5f5793f6d3d0e34fb8/annotated_types-0.7.0-py3-none-any.whl.metadata\n",
      "  Downloading annotated_types-0.7.0-py3-none-any.whl.metadata (15 kB)\n",
      "Collecting pydantic-core==2.27.2 (from pydantic<3.0.0,>=2.7.4->langchain)\n",
      "  Obtaining dependency information for pydantic-core==2.27.2 from https://files.pythonhosted.org/packages/e8/ef/013f07248041b74abd48a385e2110aa3a9bbfef0fbd97d4e6d07d2f5b89a/pydantic_core-2.27.2-cp311-cp311-win_amd64.whl.metadata\n",
      "  Downloading pydantic_core-2.27.2-cp311-cp311-win_amd64.whl.metadata (6.7 kB)\n",
      "Collecting typing-extensions>=4.7 (from langchain-core<0.4.0,>=0.3.33->langchain)\n",
      "  Obtaining dependency information for typing-extensions>=4.7 from https://files.pythonhosted.org/packages/26/9f/ad63fc0248c5379346306f8668cda6e2e2e9c95e01216d2b8ffd9ff037d0/typing_extensions-4.12.2-py3-none-any.whl.metadata\n",
      "  Using cached typing_extensions-4.12.2-py3-none-any.whl.metadata (3.0 kB)\n",
      "Requirement already satisfied: idna<4,>=2.5 in c:\\users\\bhide\\anaconda3\\lib\\site-packages (from requests<3,>=2->langchain) (3.4)\n",
      "Requirement already satisfied: urllib3<3,>=1.21.1 in c:\\users\\bhide\\anaconda3\\lib\\site-packages (from requests<3,>=2->langchain) (1.26.16)\n",
      "Requirement already satisfied: certifi>=2017.4.17 in c:\\users\\bhide\\anaconda3\\lib\\site-packages (from requests<3,>=2->langchain) (2024.12.14)\n",
      "Requirement already satisfied: greenlet!=0.4.17 in c:\\users\\bhide\\anaconda3\\lib\\site-packages (from SQLAlchemy<3,>=1.4->langchain) (2.0.1)\n",
      "Requirement already satisfied: anyio in c:\\users\\bhide\\anaconda3\\lib\\site-packages (from httpx<1,>=0.23.0->langsmith<0.4,>=0.1.17->langchain) (3.5.0)\n",
      "Collecting httpcore==1.* (from httpx<1,>=0.23.0->langsmith<0.4,>=0.1.17->langchain)\n",
      "  Obtaining dependency information for httpcore==1.* from https://files.pythonhosted.org/packages/87/f5/72347bc88306acb359581ac4d52f23c0ef445b57157adedb9aee0cd689d2/httpcore-1.0.7-py3-none-any.whl.metadata\n",
      "  Downloading httpcore-1.0.7-py3-none-any.whl.metadata (21 kB)\n",
      "Collecting h11<0.15,>=0.13 (from httpcore==1.*->httpx<1,>=0.23.0->langsmith<0.4,>=0.1.17->langchain)\n",
      "  Obtaining dependency information for h11<0.15,>=0.13 from https://files.pythonhosted.org/packages/95/04/ff642e65ad6b90db43e668d70ffb6736436c7ce41fcc549f4e9472234127/h11-0.14.0-py3-none-any.whl.metadata\n",
      "  Downloading h11-0.14.0-py3-none-any.whl.metadata (8.2 kB)\n",
      "Requirement already satisfied: jsonpointer>=1.9 in c:\\users\\bhide\\anaconda3\\lib\\site-packages (from jsonpatch<2.0,>=1.33->langchain-core<0.4.0,>=0.3.33->langchain) (2.1)\n",
      "Requirement already satisfied: sniffio>=1.1 in c:\\users\\bhide\\anaconda3\\lib\\site-packages (from anyio->httpx<1,>=0.23.0->langsmith<0.4,>=0.1.17->langchain) (1.2.0)\n",
      "Downloading langchain-0.3.17-py3-none-any.whl (1.0 MB)\n",
      "   ---------------------------------------- 0.0/1.0 MB ? eta -:--:--\n",
      "   -- ------------------------------------- 0.1/1.0 MB 1.6 MB/s eta 0:00:01\n",
      "   ------ --------------------------------- 0.2/1.0 MB 1.5 MB/s eta 0:00:01\n",
      "   -------------- ------------------------- 0.4/1.0 MB 2.5 MB/s eta 0:00:01\n",
      "   ------------------------------ --------- 0.8/1.0 MB 4.0 MB/s eta 0:00:01\n",
      "   ---------------------------------------  1.0/1.0 MB 4.9 MB/s eta 0:00:01\n",
      "   ---------------------------------------  1.0/1.0 MB 4.9 MB/s eta 0:00:01\n",
      "   ---------------------------------------  1.0/1.0 MB 4.9 MB/s eta 0:00:01\n",
      "   ---------------------------------------  1.0/1.0 MB 4.9 MB/s eta 0:00:01\n",
      "   ---------------------------------------  1.0/1.0 MB 4.9 MB/s eta 0:00:01\n",
      "   ---------------------------------------  1.0/1.0 MB 4.9 MB/s eta 0:00:01\n",
      "   ---------------------------------------  1.0/1.0 MB 4.9 MB/s eta 0:00:01\n",
      "   ---------------------------------------- 1.0/1.0 MB 1.9 MB/s eta 0:00:00\n",
      "Downloading langchain_core-0.3.33-py3-none-any.whl (412 kB)\n",
      "   ---------------------------------------- 0.0/412.7 kB ? eta -:--:--\n",
      "   --------------------------------------  409.6/412.7 kB 12.9 MB/s eta 0:00:01\n",
      "   ---------------------------------------- 412.7/412.7 kB 8.6 MB/s eta 0:00:00\n",
      "Downloading langchain_text_splitters-0.3.5-py3-none-any.whl (31 kB)\n",
      "Downloading langsmith-0.3.4-py3-none-any.whl (333 kB)\n",
      "   ---------------------------------------- 0.0/333.3 kB ? eta -:--:--\n",
      "   --------------------------------------- 333.3/333.3 kB 10.4 MB/s eta 0:00:00\n",
      "Downloading pydantic-2.10.6-py3-none-any.whl (431 kB)\n",
      "   ---------------------------------------- 0.0/431.7 kB ? eta -:--:--\n",
      "   --------------------------------------- 431.7/431.7 kB 26.3 MB/s eta 0:00:00\n",
      "Downloading pydantic_core-2.27.2-cp311-cp311-win_amd64.whl (2.0 MB)\n",
      "   ---------------------------------------- 0.0/2.0 MB ? eta -:--:--\n",
      "   ------------------------------- -------- 1.6/2.0 MB 34.1 MB/s eta 0:00:01\n",
      "   ---------------------------------------  2.0/2.0 MB 31.7 MB/s eta 0:00:01\n",
      "   ---------------------------------------  2.0/2.0 MB 31.7 MB/s eta 0:00:01\n",
      "   ---------------------------------------  2.0/2.0 MB 31.7 MB/s eta 0:00:01\n",
      "   ---------------------------------------  2.0/2.0 MB 31.7 MB/s eta 0:00:01\n",
      "   ---------------------------------------  2.0/2.0 MB 31.7 MB/s eta 0:00:01\n",
      "   ---------------------------------------  2.0/2.0 MB 31.7 MB/s eta 0:00:01\n",
      "   ---------------------------------------- 2.0/2.0 MB 6.0 MB/s eta 0:00:00\n",
      "Downloading annotated_types-0.7.0-py3-none-any.whl (13 kB)\n",
      "Downloading httpx-0.28.1-py3-none-any.whl (73 kB)\n",
      "   ---------------------------------------- 0.0/73.5 kB ? eta -:--:--\n",
      "   ---------------------------------------- 73.5/73.5 kB ? eta 0:00:00\n",
      "Downloading httpcore-1.0.7-py3-none-any.whl (78 kB)\n",
      "   ---------------------------------------- 0.0/78.6 kB ? eta -:--:--\n",
      "   ---------------------------------------- 78.6/78.6 kB 4.6 MB/s eta 0:00:00\n",
      "Downloading jsonpatch-1.33-py2.py3-none-any.whl (12 kB)\n",
      "Downloading orjson-3.10.15-cp311-cp311-win_amd64.whl (133 kB)\n",
      "   ---------------------------------------- 0.0/133.6 kB ? eta -:--:--\n",
      "   ---------------------------------------  133.1/133.6 kB 4.0 MB/s eta 0:00:01\n",
      "   ---------------------------------------- 133.6/133.6 kB 2.7 MB/s eta 0:00:00\n",
      "Using cached packaging-24.2-py3-none-any.whl (65 kB)\n",
      "Using cached typing_extensions-4.12.2-py3-none-any.whl (37 kB)\n",
      "Downloading zstandard-0.23.0-cp311-cp311-win_amd64.whl (495 kB)\n",
      "   ---------------------------------------- 0.0/495.4 kB ? eta -:--:--\n",
      "   --------------------------------------- 495.4/495.4 kB 30.3 MB/s eta 0:00:00\n",
      "Downloading h11-0.14.0-py3-none-any.whl (58 kB)\n",
      "   ---------------------------------------- 0.0/58.3 kB ? eta -:--:--\n",
      "   ---------------------------------------- 58.3/58.3 kB ? eta 0:00:00\n",
      "Installing collected packages: zstandard, typing-extensions, packaging, orjson, jsonpatch, h11, annotated-types, pydantic-core, httpcore, pydantic, httpx, langsmith, langchain-core, langchain-text-splitters, langchain\n",
      "  Attempting uninstall: zstandard\n",
      "    Found existing installation: zstandard 0.19.0\n",
      "    Uninstalling zstandard-0.19.0:\n",
      "      Successfully uninstalled zstandard-0.19.0\n",
      "  Attempting uninstall: typing-extensions\n",
      "    Found existing installation: typing_extensions 4.11.0\n",
      "    Uninstalling typing_extensions-4.11.0:\n",
      "      Successfully uninstalled typing_extensions-4.11.0\n",
      "  Attempting uninstall: packaging\n",
      "    Found existing installation: packaging 23.1\n",
      "    Uninstalling packaging-23.1:\n",
      "      Successfully uninstalled packaging-23.1\n",
      "  Attempting uninstall: jsonpatch\n",
      "    Found existing installation: jsonpatch 1.32\n",
      "    Uninstalling jsonpatch-1.32:\n",
      "      Successfully uninstalled jsonpatch-1.32\n",
      "  Attempting uninstall: pydantic\n",
      "    Found existing installation: pydantic 1.10.8\n",
      "    Uninstalling pydantic-1.10.8:\n",
      "      Successfully uninstalled pydantic-1.10.8\n",
      "Successfully installed annotated-types-0.7.0 h11-0.14.0 httpcore-1.0.7 httpx-0.28.1 jsonpatch-1.33 langchain-0.3.17 langchain-core-0.3.33 langchain-text-splitters-0.3.5 langsmith-0.3.4 orjson-3.10.15 packaging-24.2 pydantic-2.10.6 pydantic-core-2.27.2 typing-extensions-4.12.2 zstandard-0.23.0\n"
     ]
    },
    {
     "name": "stderr",
     "output_type": "stream",
     "text": [
      "ERROR: pip's dependency resolver does not currently take into account all the packages that are installed. This behaviour is the source of the following dependency conflicts.\n",
      "tables 3.8.0 requires blosc2~=2.0.0, which is not installed.\n",
      "tables 3.8.0 requires cython>=0.29.21, which is not installed.\n",
      "anaconda-cloud-auth 0.1.3 requires pydantic<2.0, but you have pydantic 2.10.6 which is incompatible.\n",
      "python-lsp-black 1.2.1 requires black>=22.3.0, but you have black 0.0 which is incompatible.\n"
     ]
    }
   ],
   "source": [
    "!pip install langchain"
   ]
  },
  {
   "cell_type": "code",
   "execution_count": 12,
   "metadata": {},
   "outputs": [
    {
     "name": "stdout",
     "output_type": "stream",
     "text": [
      "Collecting langchain_community\n",
      "  Obtaining dependency information for langchain_community from https://files.pythonhosted.org/packages/23/04/ba77fbbb408b233ac82eeea57ba4d988da67dcf60ad10a165691406f7de6/langchain_community-0.3.16-py3-none-any.whl.metadata\n",
      "  Downloading langchain_community-0.3.16-py3-none-any.whl.metadata (2.9 kB)\n",
      "Requirement already satisfied: PyYAML>=5.3 in c:\\users\\bhide\\anaconda3\\lib\\site-packages (from langchain_community) (6.0)\n",
      "Requirement already satisfied: SQLAlchemy<3,>=1.4 in c:\\users\\bhide\\anaconda3\\lib\\site-packages (from langchain_community) (1.4.39)\n",
      "Requirement already satisfied: aiohttp<4.0.0,>=3.8.3 in c:\\users\\bhide\\anaconda3\\lib\\site-packages (from langchain_community) (3.8.5)\n",
      "Collecting dataclasses-json<0.7,>=0.5.7 (from langchain_community)\n",
      "  Obtaining dependency information for dataclasses-json<0.7,>=0.5.7 from https://files.pythonhosted.org/packages/c3/be/d0d44e092656fe7a06b55e6103cbce807cdbdee17884a5367c68c9860853/dataclasses_json-0.6.7-py3-none-any.whl.metadata\n",
      "  Downloading dataclasses_json-0.6.7-py3-none-any.whl.metadata (25 kB)\n",
      "Collecting httpx-sse<0.5.0,>=0.4.0 (from langchain_community)\n",
      "  Obtaining dependency information for httpx-sse<0.5.0,>=0.4.0 from https://files.pythonhosted.org/packages/e1/9b/a181f281f65d776426002f330c31849b86b31fc9d848db62e16f03ff739f/httpx_sse-0.4.0-py3-none-any.whl.metadata\n",
      "  Downloading httpx_sse-0.4.0-py3-none-any.whl.metadata (9.0 kB)\n",
      "Requirement already satisfied: langchain<0.4.0,>=0.3.16 in c:\\users\\bhide\\anaconda3\\lib\\site-packages (from langchain_community) (0.3.17)\n",
      "Requirement already satisfied: langchain-core<0.4.0,>=0.3.32 in c:\\users\\bhide\\anaconda3\\lib\\site-packages (from langchain_community) (0.3.33)\n",
      "Requirement already satisfied: langsmith<0.4,>=0.1.125 in c:\\users\\bhide\\anaconda3\\lib\\site-packages (from langchain_community) (0.3.4)\n",
      "Requirement already satisfied: numpy<2,>=1.22.4 in c:\\users\\bhide\\anaconda3\\lib\\site-packages (from langchain_community) (1.24.3)\n",
      "Collecting pydantic-settings<3.0.0,>=2.4.0 (from langchain_community)\n",
      "  Obtaining dependency information for pydantic-settings<3.0.0,>=2.4.0 from https://files.pythonhosted.org/packages/b4/46/93416fdae86d40879714f72956ac14df9c7b76f7d41a4d68aa9f71a0028b/pydantic_settings-2.7.1-py3-none-any.whl.metadata\n",
      "  Downloading pydantic_settings-2.7.1-py3-none-any.whl.metadata (3.5 kB)\n",
      "Requirement already satisfied: requests<3,>=2 in c:\\users\\bhide\\anaconda3\\lib\\site-packages (from langchain_community) (2.31.0)\n",
      "Requirement already satisfied: tenacity!=8.4.0,<10,>=8.1.0 in c:\\users\\bhide\\anaconda3\\lib\\site-packages (from langchain_community) (8.2.2)\n",
      "Requirement already satisfied: attrs>=17.3.0 in c:\\users\\bhide\\anaconda3\\lib\\site-packages (from aiohttp<4.0.0,>=3.8.3->langchain_community) (22.1.0)\n",
      "Requirement already satisfied: charset-normalizer<4.0,>=2.0 in c:\\users\\bhide\\anaconda3\\lib\\site-packages (from aiohttp<4.0.0,>=3.8.3->langchain_community) (2.0.4)\n",
      "Requirement already satisfied: multidict<7.0,>=4.5 in c:\\users\\bhide\\anaconda3\\lib\\site-packages (from aiohttp<4.0.0,>=3.8.3->langchain_community) (6.0.2)\n",
      "Requirement already satisfied: async-timeout<5.0,>=4.0.0a3 in c:\\users\\bhide\\anaconda3\\lib\\site-packages (from aiohttp<4.0.0,>=3.8.3->langchain_community) (4.0.2)\n",
      "Requirement already satisfied: yarl<2.0,>=1.0 in c:\\users\\bhide\\anaconda3\\lib\\site-packages (from aiohttp<4.0.0,>=3.8.3->langchain_community) (1.8.1)\n",
      "Requirement already satisfied: frozenlist>=1.1.1 in c:\\users\\bhide\\anaconda3\\lib\\site-packages (from aiohttp<4.0.0,>=3.8.3->langchain_community) (1.3.3)\n",
      "Requirement already satisfied: aiosignal>=1.1.2 in c:\\users\\bhide\\anaconda3\\lib\\site-packages (from aiohttp<4.0.0,>=3.8.3->langchain_community) (1.2.0)\n",
      "Collecting marshmallow<4.0.0,>=3.18.0 (from dataclasses-json<0.7,>=0.5.7->langchain_community)\n",
      "  Obtaining dependency information for marshmallow<4.0.0,>=3.18.0 from https://files.pythonhosted.org/packages/d6/0d/80d7071803df1957c304bc096a714334dda7eb41ecfdd28dcfb49b1cde0e/marshmallow-3.26.0-py3-none-any.whl.metadata\n",
      "  Downloading marshmallow-3.26.0-py3-none-any.whl.metadata (7.3 kB)\n",
      "Collecting typing-inspect<1,>=0.4.0 (from dataclasses-json<0.7,>=0.5.7->langchain_community)\n",
      "  Obtaining dependency information for typing-inspect<1,>=0.4.0 from https://files.pythonhosted.org/packages/65/f3/107a22063bf27bdccf2024833d3445f4eea42b2e598abfbd46f6a63b6cb0/typing_inspect-0.9.0-py3-none-any.whl.metadata\n",
      "  Downloading typing_inspect-0.9.0-py3-none-any.whl.metadata (1.5 kB)\n",
      "Requirement already satisfied: langchain-text-splitters<0.4.0,>=0.3.3 in c:\\users\\bhide\\anaconda3\\lib\\site-packages (from langchain<0.4.0,>=0.3.16->langchain_community) (0.3.5)\n",
      "Requirement already satisfied: pydantic<3.0.0,>=2.7.4 in c:\\users\\bhide\\anaconda3\\lib\\site-packages (from langchain<0.4.0,>=0.3.16->langchain_community) (2.10.6)\n",
      "Requirement already satisfied: jsonpatch<2.0,>=1.33 in c:\\users\\bhide\\anaconda3\\lib\\site-packages (from langchain-core<0.4.0,>=0.3.32->langchain_community) (1.33)\n",
      "Requirement already satisfied: packaging<25,>=23.2 in c:\\users\\bhide\\anaconda3\\lib\\site-packages (from langchain-core<0.4.0,>=0.3.32->langchain_community) (24.2)\n",
      "Requirement already satisfied: typing-extensions>=4.7 in c:\\users\\bhide\\anaconda3\\lib\\site-packages (from langchain-core<0.4.0,>=0.3.32->langchain_community) (4.12.2)\n",
      "Requirement already satisfied: httpx<1,>=0.23.0 in c:\\users\\bhide\\anaconda3\\lib\\site-packages (from langsmith<0.4,>=0.1.125->langchain_community) (0.28.1)\n",
      "Requirement already satisfied: orjson<4.0.0,>=3.9.14 in c:\\users\\bhide\\anaconda3\\lib\\site-packages (from langsmith<0.4,>=0.1.125->langchain_community) (3.10.15)\n",
      "Requirement already satisfied: requests-toolbelt<2.0.0,>=1.0.0 in c:\\users\\bhide\\anaconda3\\lib\\site-packages (from langsmith<0.4,>=0.1.125->langchain_community) (1.0.0)\n",
      "Requirement already satisfied: zstandard<0.24.0,>=0.23.0 in c:\\users\\bhide\\anaconda3\\lib\\site-packages (from langsmith<0.4,>=0.1.125->langchain_community) (0.23.0)\n",
      "Requirement already satisfied: python-dotenv>=0.21.0 in c:\\users\\bhide\\anaconda3\\lib\\site-packages (from pydantic-settings<3.0.0,>=2.4.0->langchain_community) (0.21.0)\n",
      "Requirement already satisfied: idna<4,>=2.5 in c:\\users\\bhide\\anaconda3\\lib\\site-packages (from requests<3,>=2->langchain_community) (3.4)\n",
      "Requirement already satisfied: urllib3<3,>=1.21.1 in c:\\users\\bhide\\anaconda3\\lib\\site-packages (from requests<3,>=2->langchain_community) (1.26.16)\n",
      "Requirement already satisfied: certifi>=2017.4.17 in c:\\users\\bhide\\anaconda3\\lib\\site-packages (from requests<3,>=2->langchain_community) (2024.12.14)\n",
      "Requirement already satisfied: greenlet!=0.4.17 in c:\\users\\bhide\\anaconda3\\lib\\site-packages (from SQLAlchemy<3,>=1.4->langchain_community) (2.0.1)\n",
      "Requirement already satisfied: anyio in c:\\users\\bhide\\anaconda3\\lib\\site-packages (from httpx<1,>=0.23.0->langsmith<0.4,>=0.1.125->langchain_community) (3.5.0)\n",
      "Requirement already satisfied: httpcore==1.* in c:\\users\\bhide\\anaconda3\\lib\\site-packages (from httpx<1,>=0.23.0->langsmith<0.4,>=0.1.125->langchain_community) (1.0.7)\n",
      "Requirement already satisfied: h11<0.15,>=0.13 in c:\\users\\bhide\\anaconda3\\lib\\site-packages (from httpcore==1.*->httpx<1,>=0.23.0->langsmith<0.4,>=0.1.125->langchain_community) (0.14.0)\n",
      "Requirement already satisfied: jsonpointer>=1.9 in c:\\users\\bhide\\anaconda3\\lib\\site-packages (from jsonpatch<2.0,>=1.33->langchain-core<0.4.0,>=0.3.32->langchain_community) (2.1)\n",
      "Requirement already satisfied: annotated-types>=0.6.0 in c:\\users\\bhide\\anaconda3\\lib\\site-packages (from pydantic<3.0.0,>=2.7.4->langchain<0.4.0,>=0.3.16->langchain_community) (0.7.0)\n",
      "Requirement already satisfied: pydantic-core==2.27.2 in c:\\users\\bhide\\anaconda3\\lib\\site-packages (from pydantic<3.0.0,>=2.7.4->langchain<0.4.0,>=0.3.16->langchain_community) (2.27.2)\n",
      "Requirement already satisfied: mypy-extensions>=0.3.0 in c:\\users\\bhide\\anaconda3\\lib\\site-packages (from typing-inspect<1,>=0.4.0->dataclasses-json<0.7,>=0.5.7->langchain_community) (1.0.0)\n",
      "Requirement already satisfied: sniffio>=1.1 in c:\\users\\bhide\\anaconda3\\lib\\site-packages (from anyio->httpx<1,>=0.23.0->langsmith<0.4,>=0.1.125->langchain_community) (1.2.0)\n",
      "Downloading langchain_community-0.3.16-py3-none-any.whl (2.5 MB)\n",
      "   ---------------------------------------- 0.0/2.5 MB ? eta -:--:--\n",
      "    --------------------------------------- 0.0/2.5 MB 991.0 kB/s eta 0:00:03\n",
      "   - -------------------------------------- 0.1/2.5 MB 1.4 MB/s eta 0:00:02\n",
      "   ------ --------------------------------- 0.4/2.5 MB 3.2 MB/s eta 0:00:01\n",
      "   -------------- ------------------------- 0.9/2.5 MB 5.4 MB/s eta 0:00:01\n",
      "   ------------------------------- -------- 2.0/2.5 MB 9.1 MB/s eta 0:00:01\n",
      "   ---------------------------------------  2.5/2.5 MB 10.0 MB/s eta 0:00:01\n",
      "   ---------------------------------------- 2.5/2.5 MB 8.9 MB/s eta 0:00:00\n",
      "Downloading dataclasses_json-0.6.7-py3-none-any.whl (28 kB)\n",
      "Downloading httpx_sse-0.4.0-py3-none-any.whl (7.8 kB)\n",
      "Downloading pydantic_settings-2.7.1-py3-none-any.whl (29 kB)\n",
      "Downloading marshmallow-3.26.0-py3-none-any.whl (50 kB)\n",
      "   ---------------------------------------- 0.0/50.8 kB ? eta -:--:--\n",
      "   ---------------------------------------- 50.8/50.8 kB 2.7 MB/s eta 0:00:00\n",
      "Downloading typing_inspect-0.9.0-py3-none-any.whl (8.8 kB)\n",
      "Installing collected packages: typing-inspect, marshmallow, httpx-sse, dataclasses-json, pydantic-settings, langchain_community\n",
      "Successfully installed dataclasses-json-0.6.7 httpx-sse-0.4.0 langchain_community-0.3.16 marshmallow-3.26.0 pydantic-settings-2.7.1 typing-inspect-0.9.0\n"
     ]
    }
   ],
   "source": [
    "!pip install langchain_community"
   ]
  },
  {
   "cell_type": "code",
   "execution_count": 19,
   "metadata": {},
   "outputs": [],
   "source": [
    "import langchain\n",
    "import pprint"
   ]
  },
  {
   "cell_type": "code",
   "execution_count": 10,
   "metadata": {},
   "outputs": [],
   "source": [
    "import os\n",
    "\n",
    "api_token = os.getenv(\"HUGGINGFACEHUB_API_TOKEN\")"
   ]
  },
  {
   "cell_type": "code",
   "execution_count": 14,
   "metadata": {},
   "outputs": [
    {
     "name": "stderr",
     "output_type": "stream",
     "text": [
      "C:\\Users\\bhide\\AppData\\Local\\Temp\\ipykernel_26196\\2508037131.py:2: LangChainDeprecationWarning: The class `HuggingFaceEmbeddings` was deprecated in LangChain 0.2.2 and will be removed in 1.0. An updated version of the class exists in the :class:`~langchain-huggingface package and should be used instead. To use it run `pip install -U :class:`~langchain-huggingface` and import as `from :class:`~langchain_huggingface import HuggingFaceEmbeddings``.\n",
      "  embeddings = HuggingFaceEmbeddings(model_name = \"sentence-transformers/all-MiniLM-L6-v2\")\n"
     ]
    },
    {
     "data": {
      "application/vnd.jupyter.widget-view+json": {
       "model_id": "bc590657f1cd4a96bdddcd5b5951c01a",
       "version_major": 2,
       "version_minor": 0
      },
      "text/plain": [
       "Downloading modules.json:   0%|          | 0.00/349 [00:00<?, ?B/s]"
      ]
     },
     "metadata": {},
     "output_type": "display_data"
    },
    {
     "name": "stderr",
     "output_type": "stream",
     "text": [
      "c:\\Users\\bhide\\anaconda3\\Lib\\site-packages\\huggingface_hub\\file_download.py:133: UserWarning: `huggingface_hub` cache-system uses symlinks by default to efficiently store duplicated files but your machine does not support them in C:\\Users\\bhide\\.cache\\huggingface\\hub. Caching files will still work but in a degraded version that might require more space on your disk. This warning can be disabled by setting the `HF_HUB_DISABLE_SYMLINKS_WARNING` environment variable. For more details, see https://huggingface.co/docs/huggingface_hub/how-to-cache#limitations.\n",
      "To support symlinks on Windows, you either need to activate Developer Mode or to run Python as an administrator. In order to see activate developer mode, see this article: https://docs.microsoft.com/en-us/windows/apps/get-started/enable-your-device-for-development\n",
      "  warnings.warn(message)\n"
     ]
    },
    {
     "data": {
      "application/vnd.jupyter.widget-view+json": {
       "model_id": "e6ffb8bda5ba48b8b434f86e362f02f2",
       "version_major": 2,
       "version_minor": 0
      },
      "text/plain": [
       "Downloading (…)ce_transformers.json:   0%|          | 0.00/116 [00:00<?, ?B/s]"
      ]
     },
     "metadata": {},
     "output_type": "display_data"
    },
    {
     "data": {
      "application/vnd.jupyter.widget-view+json": {
       "model_id": "8fd51dfd76a747eca0b613bf17016d72",
       "version_major": 2,
       "version_minor": 0
      },
      "text/plain": [
       "Downloading README.md:   0%|          | 0.00/10.7k [00:00<?, ?B/s]"
      ]
     },
     "metadata": {},
     "output_type": "display_data"
    },
    {
     "data": {
      "application/vnd.jupyter.widget-view+json": {
       "model_id": "94f34b95859b436a8883c4e206d076ef",
       "version_major": 2,
       "version_minor": 0
      },
      "text/plain": [
       "Downloading (…)nce_bert_config.json:   0%|          | 0.00/53.0 [00:00<?, ?B/s]"
      ]
     },
     "metadata": {},
     "output_type": "display_data"
    },
    {
     "data": {
      "application/vnd.jupyter.widget-view+json": {
       "model_id": "b93461432758401fa7c20c8ee32ef7fd",
       "version_major": 2,
       "version_minor": 0
      },
      "text/plain": [
       "Downloading config.json:   0%|          | 0.00/612 [00:00<?, ?B/s]"
      ]
     },
     "metadata": {},
     "output_type": "display_data"
    },
    {
     "name": "stderr",
     "output_type": "stream",
     "text": [
      "c:\\Users\\bhide\\anaconda3\\Lib\\site-packages\\transformers\\utils\\generic.py:260: FutureWarning: `torch.utils._pytree._register_pytree_node` is deprecated. Please use `torch.utils._pytree.register_pytree_node` instead.\n",
      "  torch.utils._pytree._register_pytree_node(\n"
     ]
    },
    {
     "data": {
      "application/vnd.jupyter.widget-view+json": {
       "model_id": "cb0175437904493ab638c278242013c7",
       "version_major": 2,
       "version_minor": 0
      },
      "text/plain": [
       "Downloading model.safetensors:   0%|          | 0.00/90.9M [00:00<?, ?B/s]"
      ]
     },
     "metadata": {},
     "output_type": "display_data"
    },
    {
     "data": {
      "application/vnd.jupyter.widget-view+json": {
       "model_id": "9db696f83b8347409417805bdaa48aa1",
       "version_major": 2,
       "version_minor": 0
      },
      "text/plain": [
       "Downloading tokenizer_config.json:   0%|          | 0.00/350 [00:00<?, ?B/s]"
      ]
     },
     "metadata": {},
     "output_type": "display_data"
    },
    {
     "data": {
      "application/vnd.jupyter.widget-view+json": {
       "model_id": "35e76e5f8f36456d99605be0162bda45",
       "version_major": 2,
       "version_minor": 0
      },
      "text/plain": [
       "Downloading vocab.txt:   0%|          | 0.00/232k [00:00<?, ?B/s]"
      ]
     },
     "metadata": {},
     "output_type": "display_data"
    },
    {
     "data": {
      "application/vnd.jupyter.widget-view+json": {
       "model_id": "fa68c186becd45ca9aceb9dae9374780",
       "version_major": 2,
       "version_minor": 0
      },
      "text/plain": [
       "Downloading tokenizer.json:   0%|          | 0.00/466k [00:00<?, ?B/s]"
      ]
     },
     "metadata": {},
     "output_type": "display_data"
    },
    {
     "data": {
      "application/vnd.jupyter.widget-view+json": {
       "model_id": "34784340080742aaaefed19008719ffd",
       "version_major": 2,
       "version_minor": 0
      },
      "text/plain": [
       "Downloading (…)cial_tokens_map.json:   0%|          | 0.00/112 [00:00<?, ?B/s]"
      ]
     },
     "metadata": {},
     "output_type": "display_data"
    },
    {
     "data": {
      "application/vnd.jupyter.widget-view+json": {
       "model_id": "fc2dc6197d4c4129948a638dc72fd2e4",
       "version_major": 2,
       "version_minor": 0
      },
      "text/plain": [
       "Downloading 1_Pooling/config.json:   0%|          | 0.00/190 [00:00<?, ?B/s]"
      ]
     },
     "metadata": {},
     "output_type": "display_data"
    }
   ],
   "source": [
    "from langchain.embeddings import HuggingFaceEmbeddings\n",
    "embeddings = HuggingFaceEmbeddings(model_name = \"sentence-transformers/all-MiniLM-L6-v2\")\n",
    "\n",
    "# The embeddings model takes a text as an input and outputs a list of floats\n",
    "text = \"Alice has a parrot. What animal is Alice's pet?\"\n",
    "text_embedding = embeddings.embed_query(text)"
   ]
  },
  {
   "cell_type": "code",
   "execution_count": 15,
   "metadata": {},
   "outputs": [
    {
     "data": {
      "text/plain": [
       "[0.07190389186143875,\n",
       " 0.07759873569011688,\n",
       " -0.00920864287763834,\n",
       " 0.05617057904601097,\n",
       " -0.09020032733678818,\n",
       " 0.013322998769581318,\n",
       " 0.09845796972513199,\n",
       " -0.09042120724916458,\n",
       " 0.07143569737672806,\n",
       " 0.012598481960594654,\n",
       " 0.03159462660551071,\n",
       " -0.0997156947851181,\n",
       " -0.011282580904662609,\n",
       " 0.007156962528824806,\n",
       " -0.004754406865686178,\n",
       " 0.0469105988740921,\n",
       " 0.011661785654723644,\n",
       " -0.06561291962862015,\n",
       " 0.037585869431495667,\n",
       " -0.0009845742024481297,\n",
       " -0.05514021962881088,\n",
       " 0.010666124522686005,\n",
       " 0.0651363879442215,\n",
       " 0.004118985030800104,\n",
       " -0.028614966198801994,\n",
       " 0.07131148874759674,\n",
       " -0.02405756711959839,\n",
       " -0.02805318683385849,\n",
       " -0.03596959263086319,\n",
       " -0.057241227477788925,\n",
       " -0.059308696538209915,\n",
       " 0.025169217959046364,\n",
       " -0.0031606932170689106,\n",
       " 0.008553331717848778,\n",
       " -0.04338772967457771,\n",
       " 0.01663791574537754,\n",
       " -0.0072966692969202995,\n",
       " 0.027561098337173462,\n",
       " 0.14499451220035553,\n",
       " 0.045777883380651474,\n",
       " -0.0038441529031842947,\n",
       " -0.06782863289117813,\n",
       " 0.008425702340900898,\n",
       " -0.08002768456935883,\n",
       " -0.06505829095840454,\n",
       " 0.020184416323900223,\n",
       " -0.01575937308371067,\n",
       " 0.03476352617144585,\n",
       " 0.06585244834423065,\n",
       " -0.0581771545112133,\n",
       " -0.05628711357712746,\n",
       " -0.033433206379413605,\n",
       " -0.1457710564136505,\n",
       " 0.011804447509348392,\n",
       " 0.01691718026995659,\n",
       " 0.0345907025039196,\n",
       " -0.012116060592234135,\n",
       " -0.01656794734299183,\n",
       " -0.03306477889418602,\n",
       " -0.022022441029548645,\n",
       " -0.004324217326939106,\n",
       " 0.030910205096006393,\n",
       " -0.005625180900096893,\n",
       " 0.12630929052829742,\n",
       " -0.030188895761966705,\n",
       " -0.03750637173652649,\n",
       " -0.09861471503973007,\n",
       " -0.028205446898937225,\n",
       " -0.010701559484004974,\n",
       " -0.014376877807080746,\n",
       " 0.00832577794790268,\n",
       " -0.00014260299212764949,\n",
       " -0.008111992850899696,\n",
       " -0.07998320460319519,\n",
       " -0.01253080740571022,\n",
       " -0.06980746984481812,\n",
       " 0.07358179986476898,\n",
       " -0.04070668667554855,\n",
       " 0.09071560204029083,\n",
       " 0.006898459978401661,\n",
       " -0.06997253000736237,\n",
       " -0.03208320215344429,\n",
       " 0.016636885702610016,\n",
       " -0.013363420031964779,\n",
       " 0.043432123959064484,\n",
       " 0.051182474941015244,\n",
       " 0.0271817147731781,\n",
       " -0.0002544338640291244,\n",
       " -0.20446574687957764,\n",
       " -0.07447787374258041,\n",
       " -0.003312669461593032,\n",
       " -0.07710277289152145,\n",
       " 0.043963585048913956,\n",
       " 0.011652306653559208,\n",
       " 0.06697207689285278,\n",
       " -0.0001858448376879096,\n",
       " 0.009378829039633274,\n",
       " -0.03852681815624237,\n",
       " -0.08988118916749954,\n",
       " 0.08431428670883179,\n",
       " 0.05129857733845711,\n",
       " 0.021951178088784218,\n",
       " 0.07179788500070572,\n",
       " -0.01505153439939022,\n",
       " 0.04597054049372673,\n",
       " 0.013203795999288559,\n",
       " -0.023149270564317703,\n",
       " 0.007096425164490938,\n",
       " 0.040308643132448196,\n",
       " -0.025797173380851746,\n",
       " -0.04500526934862137,\n",
       " -0.1163136214017868,\n",
       " -0.004245912656188011,\n",
       " 0.03334686532616615,\n",
       " 0.037204280495643616,\n",
       " 0.039168279618024826,\n",
       " 0.026955025270581245,\n",
       " 0.021193616092205048,\n",
       " -0.012237568385899067,\n",
       " 0.017814677208662033,\n",
       " 0.051563460379838943,\n",
       " -0.0504937469959259,\n",
       " 0.04906141012907028,\n",
       " 0.04204835370182991,\n",
       " 0.05356067791581154,\n",
       " 0.0060818311758339405,\n",
       " -0.047661423683166504,\n",
       " -4.652256930985244e-33,\n",
       " 0.02782171405851841,\n",
       " -0.05530295521020889,\n",
       " 0.06158534809947014,\n",
       " -0.011745428666472435,\n",
       " 0.11292827874422073,\n",
       " 0.02611509896814823,\n",
       " -0.02393190562725067,\n",
       " 0.05385110154747963,\n",
       " -0.046943552792072296,\n",
       " 0.035229187458753586,\n",
       " -0.0409710593521595,\n",
       " -0.048513855785131454,\n",
       " -0.07501807063817978,\n",
       " -0.03083649091422558,\n",
       " 0.02083076350390911,\n",
       " 0.06847609579563141,\n",
       " -0.05949600040912628,\n",
       " 0.0656658485531807,\n",
       " -0.0007242420106194913,\n",
       " -0.014839814975857735,\n",
       " 0.01889815740287304,\n",
       " 0.07595895975828171,\n",
       " -0.009457405656576157,\n",
       " 0.06306501477956772,\n",
       " 0.037254009395837784,\n",
       " -0.04922967776656151,\n",
       " 0.04543539881706238,\n",
       " -0.12445631623268127,\n",
       " 0.01920483633875847,\n",
       " 0.031222829595208168,\n",
       " 0.016962861642241478,\n",
       " 0.025864534080028534,\n",
       " -0.0640425980091095,\n",
       " 0.03446092829108238,\n",
       " -0.12106738239526749,\n",
       " -0.021936552599072456,\n",
       " 0.008449257351458073,\n",
       " -0.10035693645477295,\n",
       " -0.03327653557062149,\n",
       " 0.003983722999691963,\n",
       " 0.04937075451016426,\n",
       " -0.07270596921443939,\n",
       " 0.12210574746131897,\n",
       " -0.00353805348277092,\n",
       " -0.03610674664378166,\n",
       " -0.052144695073366165,\n",
       " -0.024403829127550125,\n",
       " 0.00040691252797842026,\n",
       " -0.008188001811504364,\n",
       " 0.10965881496667862,\n",
       " 0.04915080592036247,\n",
       " 0.001540772384032607,\n",
       " 0.016317738220095634,\n",
       " 0.0003596391761675477,\n",
       " -0.024695590138435364,\n",
       " -0.02705523744225502,\n",
       " 0.005296278744935989,\n",
       " 0.05173242837190628,\n",
       " -0.0338759683072567,\n",
       " 0.08158425986766815,\n",
       " -0.020930306985974312,\n",
       " -0.0030004694126546383,\n",
       " 0.06492072343826294,\n",
       " -0.029812444001436234,\n",
       " 0.09617502242326736,\n",
       " -0.038611557334661484,\n",
       " -0.02059057727456093,\n",
       " -0.039740536361932755,\n",
       " 0.03886411711573601,\n",
       " 0.05497264489531517,\n",
       " 0.03840773180127144,\n",
       " -0.020683035254478455,\n",
       " 0.06816926598548889,\n",
       " -0.0951315388083458,\n",
       " -0.04733525216579437,\n",
       " -0.00581155251711607,\n",
       " -0.016299281269311905,\n",
       " 0.013358091935515404,\n",
       " 0.003805862506851554,\n",
       " -0.04206923022866249,\n",
       " 0.014431091956794262,\n",
       " 0.06322518736124039,\n",
       " 0.027346139773726463,\n",
       " 0.04525930806994438,\n",
       " -0.0952071100473404,\n",
       " -0.023549186065793037,\n",
       " 0.0012722056126222014,\n",
       " -0.027428539469838142,\n",
       " 0.05357568338513374,\n",
       " -0.029776370152831078,\n",
       " -0.03113139607012272,\n",
       " 0.06564609706401825,\n",
       " -0.04689400643110275,\n",
       " -0.06847744435071945,\n",
       " 0.05099305137991905,\n",
       " 2.6736152485132447e-33,\n",
       " -0.049982182681560516,\n",
       " -0.01833532378077507,\n",
       " -0.0566568449139595,\n",
       " 0.046943847090005875,\n",
       " -0.005061206873506308,\n",
       " -0.028215309605002403,\n",
       " 0.051969509571790695,\n",
       " 0.06334149092435837,\n",
       " 0.020200451835989952,\n",
       " -0.028669655323028564,\n",
       " -0.0348992645740509,\n",
       " -0.005097067914903164,\n",
       " -0.022341417148709297,\n",
       " 0.009255412966012955,\n",
       " 0.06680142134428024,\n",
       " -0.01539762131869793,\n",
       " -0.001699873129837215,\n",
       " -0.0682978704571724,\n",
       " 0.06752932816743851,\n",
       " -0.061346475034952164,\n",
       " -0.07955260574817657,\n",
       " -0.0020383798982948065,\n",
       " -0.007233711890876293,\n",
       " 0.03128793463110924,\n",
       " 0.051381681114435196,\n",
       " 0.06254342198371887,\n",
       " 0.07620858401060104,\n",
       " -0.043261393904685974,\n",
       " 0.0192185677587986,\n",
       " -0.06703440845012665,\n",
       " -0.06640750169754028,\n",
       " -0.044126369059085846,\n",
       " -0.031561046838760376,\n",
       " -0.031791675835847855,\n",
       " -0.0134567366912961,\n",
       " -0.008733173832297325,\n",
       " -0.06535874307155609,\n",
       " -0.03911016136407852,\n",
       " -0.09722353518009186,\n",
       " -0.0469047948718071,\n",
       " 0.09307372570037842,\n",
       " 0.0007229595212265849,\n",
       " 0.011507878080010414,\n",
       " 0.09178562462329865,\n",
       " 0.08220090717077255,\n",
       " -0.027667133137583733,\n",
       " -0.003527401713654399,\n",
       " 0.0248576607555151,\n",
       " 0.0692298412322998,\n",
       " 0.02076314389705658,\n",
       " -0.003687684889882803,\n",
       " -0.0882997214794159,\n",
       " 0.03725939616560936,\n",
       " -0.023187359794974327,\n",
       " 0.013859212398529053,\n",
       " 0.0400397963821888,\n",
       " 0.004241042770445347,\n",
       " 0.004108824767172337,\n",
       " 0.07790125161409378,\n",
       " -0.05485932156443596,\n",
       " -0.022170722484588623,\n",
       " 0.05381409451365471,\n",
       " -0.004046479240059853,\n",
       " 0.049433812499046326,\n",
       " -0.04608063027262688,\n",
       " -0.00613417336717248,\n",
       " -0.07287637889385223,\n",
       " -0.03874988108873367,\n",
       " 0.026771029457449913,\n",
       " -0.052433643490076065,\n",
       " 0.07241053879261017,\n",
       " 0.08956541121006012,\n",
       " -0.07924474030733109,\n",
       " -0.07715178281068802,\n",
       " 0.022595958784222603,\n",
       " 0.13659900426864624,\n",
       " 0.01547101978212595,\n",
       " -0.0775485560297966,\n",
       " 0.02617712691426277,\n",
       " -0.042924657464027405,\n",
       " -0.06987979263067245,\n",
       " -0.0372953861951828,\n",
       " 0.03576779365539551,\n",
       " 0.03503773733973503,\n",
       " 0.015915120020508766,\n",
       " -0.07491446286439896,\n",
       " 0.03138240426778793,\n",
       " 0.06730802357196808,\n",
       " 0.016418078914284706,\n",
       " 0.06731420010328293,\n",
       " 0.02339269034564495,\n",
       " 0.059445951133966446,\n",
       " 0.05657925084233284,\n",
       " -0.09258057922124863,\n",
       " -0.05018153041601181,\n",
       " -1.5737057879050553e-08,\n",
       " -0.029762957245111465,\n",
       " 0.062351956963539124,\n",
       " -0.007123044226318598,\n",
       " -0.04020058363676071,\n",
       " 0.06492559611797333,\n",
       " 0.056083183735609055,\n",
       " 0.07533740997314453,\n",
       " -0.05233479291200638,\n",
       " -0.031433336436748505,\n",
       " 0.049786072224378586,\n",
       " -0.011031275615096092,\n",
       " -0.029887789860367775,\n",
       " 0.014638504944741726,\n",
       " 0.0629357323050499,\n",
       " 0.0855439230799675,\n",
       " 0.012865768745541573,\n",
       " 0.049429409205913544,\n",
       " -0.058747898787260056,\n",
       " -0.006947177927941084,\n",
       " 0.008680659346282482,\n",
       " -0.06467010080814362,\n",
       " -0.0037185875698924065,\n",
       " 0.05144381895661354,\n",
       " 0.0027394569478929043,\n",
       " -0.06530573219060898,\n",
       " -0.02924720197916031,\n",
       " -0.008596420288085938,\n",
       " 0.06131214648485184,\n",
       " 0.019195152446627617,\n",
       " 0.06689488142728806,\n",
       " -0.009968061931431293,\n",
       " 0.07228690385818481,\n",
       " -0.05482352524995804,\n",
       " 0.010047758929431438,\n",
       " 0.013921510428190231,\n",
       " -0.049603670835494995,\n",
       " -0.02123943343758583,\n",
       " -0.03108653798699379,\n",
       " 0.01690261997282505,\n",
       " -0.036437127739191055,\n",
       " -0.0020110385958105326,\n",
       " 0.0024147469084709883,\n",
       " -0.0066619375720620155,\n",
       " -0.03337131440639496,\n",
       " 0.01636517234146595,\n",
       " -0.06267797201871872,\n",
       " 0.052605338394641876,\n",
       " -0.1326403170824051,\n",
       " -0.022192230448126793,\n",
       " -0.043402597308158875,\n",
       " -0.006546967662870884,\n",
       " 0.0187802966684103,\n",
       " 0.04014541208744049,\n",
       " -0.03727605193853378,\n",
       " -0.0476035512983799,\n",
       " -0.042808596044778824,\n",
       " 0.025238675996661186,\n",
       " -0.04065853729844093,\n",
       " 0.01164555549621582,\n",
       " 0.048760317265987396,\n",
       " 0.050196487456560135,\n",
       " 0.07130840420722961,\n",
       " 0.05952654778957367,\n",
       " 0.016739940270781517]"
      ]
     },
     "execution_count": 15,
     "metadata": {},
     "output_type": "execute_result"
    }
   ],
   "source": [
    "text_embedding"
   ]
  },
  {
   "cell_type": "markdown",
   "metadata": {},
   "source": [
    "![image.png](https://miro.medium.com/v2/resize:fit:720/format:webp/1*m-B8T61sERyREFwx56y3EQ.png)"
   ]
  },
  {
   "cell_type": "markdown",
   "metadata": {},
   "source": [
    "- Chat models are similar to LLMs. They take a list of chat messages as input and return a chat message.\n",
    "- Text embedding models take text input and return a list of floats (embeddings), which are the numerical representation of the input text. Embeddings help extract information from a text. This information can then be later used, e.g., for calculating similarities between texts (e.g., movie summaries)."
   ]
  },
  {
   "cell_type": "markdown",
   "metadata": {},
   "source": [
    "\n",
    "<br/><br/>\n"
   ]
  },
  {
   "cell_type": "markdown",
   "metadata": {},
   "source": [
    "LangChain provides you with so-called PromptTemplates, which help you construct prompts from multiple components."
   ]
  },
  {
   "cell_type": "code",
   "execution_count": 16,
   "metadata": {},
   "outputs": [
    {
     "data": {
      "text/plain": [
       "'What is a good name for a company that makes colorful socks?'"
      ]
     },
     "execution_count": 16,
     "metadata": {},
     "output_type": "execute_result"
    }
   ],
   "source": [
    "from langchain import PromptTemplate\n",
    "\n",
    "template = \"What is a good name for a company that makes {product}?\"\n",
    "\n",
    "prompt = PromptTemplate(\n",
    "    input_variables=[\"product\"],\n",
    "    template=template,\n",
    ")\n",
    "\n",
    "prompt.format(product=\"colorful socks\")"
   ]
  },
  {
   "cell_type": "markdown",
   "metadata": {},
   "source": [
    "The above prompt can be viewed as a zero-shot problem setting, where you hope the LLM was trained on enough relevant data to provide a satisfactory response.\n",
    "<br><br>\n",
    "Another trick to improve the LLM’s output is to add a few examples in the prompt and make it a few-shot problem setting."
   ]
  },
  {
   "cell_type": "code",
   "execution_count": 22,
   "metadata": {},
   "outputs": [
    {
     "data": {
      "text/plain": [
       "'Give the antonym of every input\\n\\nWord: happy\\nAntonym: sad\\n\\n\\n\\nWord: tall\\nAntonym: short\\n\\n\\nWord: big\\nAntonym:'"
      ]
     },
     "execution_count": 22,
     "metadata": {},
     "output_type": "execute_result"
    }
   ],
   "source": [
    "from langchain import PromptTemplate, FewShotPromptTemplate\n",
    "\n",
    "examples = [\n",
    "    {\"word\": \"happy\", \"antonym\": \"sad\"},\n",
    "    {\"word\": \"tall\", \"antonym\": \"short\"},\n",
    "]\n",
    "\n",
    "example_template = \"\"\"\n",
    "Word: {word}\n",
    "Antonym: {antonym}\\n\n",
    "\"\"\"\n",
    "\n",
    "example_prompt = PromptTemplate(\n",
    "    input_variables=[\"word\", \"antonym\"],\n",
    "    template=example_template,\n",
    ")\n",
    "\n",
    "few_shot_prompt = FewShotPromptTemplate(\n",
    "    examples=examples,\n",
    "    example_prompt=example_prompt,\n",
    "    prefix=\"Give the antonym of every input\",\n",
    "    suffix=\"Word: {input}\\nAntonym:\",\n",
    "    input_variables=[\"input\"],\n",
    "    example_separator=\"\\n\",\n",
    ")\n",
    "\n",
    "few_shot_prompt.format(input=\"big\")"
   ]
  },
  {
   "cell_type": "code",
   "execution_count": null,
   "metadata": {},
   "outputs": [],
   "source": []
  }
 ],
 "metadata": {
  "kernelspec": {
   "display_name": "base",
   "language": "python",
   "name": "python3"
  },
  "language_info": {
   "codemirror_mode": {
    "name": "ipython",
    "version": 3
   },
   "file_extension": ".py",
   "mimetype": "text/x-python",
   "name": "python",
   "nbconvert_exporter": "python",
   "pygments_lexer": "ipython3",
   "version": "3.11.5"
  }
 },
 "nbformat": 4,
 "nbformat_minor": 2
}
